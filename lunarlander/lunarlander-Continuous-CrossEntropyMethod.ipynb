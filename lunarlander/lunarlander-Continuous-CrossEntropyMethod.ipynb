{
 "cells": [
  {
   "cell_type": "code",
   "execution_count": 1,
   "metadata": {},
   "outputs": [],
   "source": [
    "import torch \n",
    "import torch.nn as nn\n",
    "from torch.nn import functional as F\n",
    "import numpy as np\n",
    "import math\n",
    "import matplotlib.pyplot as plt\n",
    "%matplotlib inline\n",
    "import gym\n",
    "from collections import deque\n",
    "from torch.autograd import Variable"
   ]
  },
  {
   "cell_type": "code",
   "execution_count": 2,
   "metadata": {},
   "outputs": [
    {
     "name": "stdout",
     "output_type": "stream",
     "text": [
      "observation space: Box(8,)\n",
      "action_space: Box(2,)\n",
      " -low: [-1. -1.]\n",
      " -high: [1. 1.]\n"
     ]
    },
    {
     "name": "stderr",
     "output_type": "stream",
     "text": [
      "/home/satya/anaconda3/envs/drlnd/lib/python3.6/site-packages/gym/logger.py:30: UserWarning: \u001b[33mWARN: Box bound precision lowered by casting to float32\u001b[0m\n",
      "  warnings.warn(colorize('%s: %s'%('WARN', msg % args), 'yellow'))\n"
     ]
    }
   ],
   "source": [
    "device = torch.device('cuda:0' if torch.cuda.is_available() else 'cpu')\n",
    "\n",
    "env = gym.make('LunarLanderContinuous-v2')\n",
    "env.seed(101)\n",
    "np.random.seed(101)\n",
    "\n",
    "print('observation space:', env.observation_space)\n",
    "print('action_space:', env.action_space)\n",
    "print(' -low:', env.action_space.low)\n",
    "print(' -high:',env.action_space.high)\n",
    "\n",
    "class agent(nn.Module):\n",
    "    def __init__(self,env,h_size = 16):\n",
    "        super(agent, self).__init__()\n",
    "        self.env = env\n",
    "        self.s_size = env.observation_space.shape[0]\n",
    "        self.h_size = h_size\n",
    "#         self.a_size = env.action_space.shape[0]\n",
    "        self.a_size = 4\n",
    "        \n",
    "        self.lin1 = nn.Linear(self.s_size,self.h_size)\n",
    "        self.lin2 = nn.Linear(self.h_size,self.a_size)\n",
    "        \n",
    "    def forward(self,x):\n",
    "        x = F.relu(self.lin1(x))\n",
    "        x = F.tanh(self.lin2(x))\n",
    "        return x.cpu().data\n",
    "    \n",
    "    def get_weight_dim(self):\n",
    "        return (self.s_size+1)*self.h_size + (self.h_size + 1)*self.a_size\n",
    "    \n",
    "    def set_weights(self,weights):\n",
    "        lin1_w = torch.from_numpy(weights[:self.s_size*self.h_size].reshape(self.h_size,self.s_size))\n",
    "        lin1_b = torch.from_numpy(weights[self.s_size*self.h_size:self.s_size*self.h_size + self.h_size])\n",
    "        lin2_w = torch.from_numpy(weights[(self.s_size+1)*self.h_size:(self.s_size+1)*self.h_size+self.h_size*self.a_size].reshape(self.a_size,self.h_size))\n",
    "        lin2_b = torch.from_numpy(weights[-self.a_size:])\n",
    "        \n",
    "        self.lin1.weight.data.copy_(lin1_w.view_as(self.lin1.weight.data))\n",
    "        self.lin2.weight.data.copy_(lin2_w.view_as(self.lin2.weight.data))\n",
    "        self.lin1.bias.data.copy_(lin1_b.view_as(self.lin1.bias.data))\n",
    "        self.lin2.bias.data.copy_(lin2_b.view_as(self.lin2.bias.data))\n",
    "        \n",
    "        \n",
    "    def evaluate(self,weights,gamma,max_t):\n",
    "        self.set_weights(weights)\n",
    "        episode_return = 0.0\n",
    "        state = self.env.reset()\n",
    "        for t in range(max_t):\n",
    "            state = torch.from_numpy(state).float().to(device)\n",
    "            action = self.forward(state)\n",
    "            next_state, reward , done , info = env.step(action.numpy())\n",
    "            episode_return += reward*math.pow(gamma,t)\n",
    "            state = next_state\n",
    "            if done:\n",
    "                break\n",
    "        return episode_return\n",
    "    \n",
    "agent = agent(env).to(device)"
   ]
  },
  {
   "cell_type": "code",
   "execution_count": 15,
   "metadata": {},
   "outputs": [
    {
     "name": "stdout",
     "output_type": "stream",
     "text": [
      "Episode 10\tAverage Score: -177.72\n",
      "Episode 20\tAverage Score: -139.09\n",
      "Episode 30\tAverage Score: -122.53\n",
      "Episode 40\tAverage Score: -87.72\n",
      "Episode 50\tAverage Score: -35.41\n",
      "Episode 60\tAverage Score: 5.61\n",
      "Episode 70\tAverage Score: 36.94\n",
      "Episode 80\tAverage Score: 60.66\n",
      "Episode 90\tAverage Score: 82.70\n",
      "Episode 100\tAverage Score: 100.38\n",
      "Episode 110\tAverage Score: 144.88\n",
      "Environment Solved in 12 iterations!\t Average_score : 152.57\n"
     ]
    },
    {
     "data": {
      "image/png": "[encoded data removed]",
      "text/plain": [
       "<Figure size 432x288 with 1 Axes>"
      ]
     },
     "metadata": {
      "needs_background": "light"
     },
     "output_type": "display_data"
    }
   ],
   "source": [
    "def cem(n_iterations = 500, max_t = 1000, gamma = 1.0, print_every = 10, pop_size=50, elite_frac=0.2, sigma = 0.5):\n",
    "    n_elite = int(pop_size*elite_frac)\n",
    "    \n",
    "    scores_deque = deque(maxlen=100)\n",
    "    score = []\n",
    "    best_weights = sigma*np.random.randn(agent.get_weight_dim())\n",
    "    \n",
    "    for i_iteration in range(1,n_iterations+1):\n",
    "        weights_pop = [best_weights + (sigma*np.random.randn(agent.get_weight_dim())) for i in range(pop_size)]\n",
    "        rewards = np.array([agent.evaluate(weights,gamma,max_t) for weights in weights_pop])\n",
    "        \n",
    "        elite_idxs = rewards.argsort()[-n_elite:]\n",
    "        elite_weights = [weights_pop[i] for i in elite_idxs]\n",
    "        best_weights = np.array(elite_weights).mean(axis = 0)\n",
    "        \n",
    "        reward = agent.evaluate(best_weights,gamma,max_t)\n",
    "        scores_deque.append(reward)\n",
    "        score.append(reward)\n",
    "        \n",
    "        torch.save(agent.state_dict(),'cem-lunarlander-continuous.pth')\n",
    "        \n",
    "        if i_iteration%print_every==0:\n",
    "            print('Episode {}\\tAverage Score: {:.2f}'.format(i_iteration,np.mean(scores_deque)))\n",
    "        if np.mean(scores_deque)>=150.0:\n",
    "            print('Environment Solved in {:d} iterations!\\t Average_score : {:.2f}'.format(i_iteration-100, np.mean(scores_deque)))\n",
    "            break\n",
    "    return score\n",
    "\n",
    "scores = cem()\n",
    "\n",
    "fig = plt.figure()\n",
    "ax = fig.add_subplot(111)\n",
    "plt.plot(np.arange(1,len(scores)+1),scores)\n",
    "plt.ylabel('Score')\n",
    "plt.xlabel('Episode #')\n",
    "plt.show()"
   ]
  },
  {
   "cell_type": "code",
   "execution_count": 5,
   "metadata": {},
   "outputs": [],
   "source": [
    "agent.load_state_dict(torch.load('cem-lunarlander-continuous.pth'))\n",
    "# env = gym.wrappers.Monitor(gym.make('LunarLanderContinuous-v2'), './video/',video_callable=lambda episode_id: True,force = True)\n",
    "state = env.reset()\n",
    "\n",
    "while True:\n",
    "    state = torch.from_numpy(state).float().to(device)\n",
    "    with torch.no_grad():\n",
    "        action = agent(state)\n",
    "    env.render()\n",
    "    next_state,reward,done,_ = env.step(action.numpy())\n",
    "    state = next_state\n",
    "    if done:\n",
    "        break\n",
    "env.close()"
   ]
  },
  {
   "cell_type": "code",
   "execution_count": null,
   "metadata": {},
   "outputs": [],
   "source": []
  }
 ],
 "metadata": {
  "kernelspec": {
   "display_name": "drlnd",
   "language": "python",
   "name": "drlnd"
  },
  "language_info": {
   "codemirror_mode": {
    "name": "ipython",
    "version": 3
   },
   "file_extension": ".py",
   "mimetype": "text/x-python",
   "name": "python",
   "nbconvert_exporter": "python",
   "pygments_lexer": "ipython3",
   "version": "3.6.10"
  }
 },
 "nbformat": 4,
 "nbformat_minor": 4
}
